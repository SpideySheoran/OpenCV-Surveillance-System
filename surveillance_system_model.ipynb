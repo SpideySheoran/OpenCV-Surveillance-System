{
 "cells": [
  {
   "cell_type": "code",
   "execution_count": 1,
   "metadata": {},
   "outputs": [],
   "source": [
    "#import libraries\n",
    "import cv2\n",
    "import numpy as np"
   ]
  },
  {
   "cell_type": "code",
   "execution_count": 2,
   "metadata": {},
   "outputs": [],
   "source": [
    "#initialise classifier\n",
    "body_classifier = cv2.CascadeClassifier('haarcascade_upperbody.xml')"
   ]
  },
  {
   "cell_type": "code",
   "execution_count": 3,
   "metadata": {},
   "outputs": [],
   "source": [
    "#read video\n",
    "cap = cv2.VideoCapture('footage.mp4')"
   ]
  },
  {
   "cell_type": "code",
   "execution_count": 4,
   "metadata": {},
   "outputs": [
    {
     "name": "stdout",
     "output_type": "stream",
     "text": [
      "0.13333333333333333\n",
      "0.33333333333333337\n",
      "0.33333333333333337\n",
      "0.4\n",
      "1.2\n",
      "1.2666666666666668\n",
      "1.3333333333333335\n",
      "1.4000000000000001\n",
      "1.4666666666666668\n",
      "1.5333333333333334\n",
      "1.6\n",
      "1.8\n",
      "1.8666666666666667\n",
      "1.9333333333333333\n",
      "2.0\n",
      "2.0\n",
      "2.066666666666667\n",
      "2.1333333333333333\n",
      "2.2\n",
      "2.2666666666666666\n",
      "2.3333333333333335\n",
      "2.4\n",
      "2.466666666666667\n",
      "2.466666666666667\n",
      "2.5333333333333337\n",
      "2.5333333333333337\n",
      "2.6\n",
      "2.6\n",
      "2.666666666666667\n",
      "2.666666666666667\n"
     ]
    }
   ],
   "source": [
    "#model\n",
    "while(cap.isOpened()):\n",
    "    ret, frame = cap.read()\n",
    "    \n",
    "    gray = cv2.cvtColor(frame, cv2.COLOR_BGR2GRAY)\n",
    "    \n",
    "    bodies = body_classifier.detectMultiScale(frame, 1.5, 1)\n",
    "\n",
    "    for (x,y,w,h) in bodies:\n",
    "        cv2.rectangle(frame, (x,y), (x+w, y+h), (25,125,255), 2)\n",
    "        print(cap.get(cv2.CAP_PROP_POS_MSEC) / 1000)\n",
    "    cv2.imshow('Pedestrians', frame)\n",
    "    \n",
    "    \n",
    "    \n",
    "    if cv2.waitKey(1) == 27:\n",
    "        break\n",
    "    \n",
    "cap.release()\n",
    "cv2.destroyAllWindows()"
   ]
  },
  {
   "cell_type": "markdown",
   "metadata": {},
   "source": []
  }
 ],
 "metadata": {
  "kernelspec": {
   "display_name": "Python 3",
   "language": "python",
   "name": "python3"
  },
  "language_info": {
   "codemirror_mode": {
    "name": "ipython",
    "version": 3
   },
   "file_extension": ".py",
   "mimetype": "text/x-python",
   "name": "python",
   "nbconvert_exporter": "python",
   "pygments_lexer": "ipython3",
   "version": "3.7.6"
  }
 },
 "nbformat": 4,
 "nbformat_minor": 4
}
